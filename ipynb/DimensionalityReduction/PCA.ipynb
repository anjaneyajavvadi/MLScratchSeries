{
 "cells": [
  {
   "cell_type": "markdown",
   "id": "58b3cd0b",
   "metadata": {},
   "source": [
    "# PCA — Key Formulas\n",
    "\n",
    "**1. Mean (feature-wise):**\n",
    "\n",
    "$$\n",
    "\\mu = \\frac{1}{n}\\sum_{i=1}^{n} x_i\n",
    "$$\n",
    "\n",
    "**2. Mean-centering the data:**\n",
    "\n",
    "$$\n",
    "X_{\\text{meaned}} = X - \\mu\n",
    "$$\n",
    "\n",
    "**3. Covariance matrix:**\n",
    "\n",
    "$$\n",
    "\\Sigma = \\frac{1}{n-1}\\, X_{\\text{meaned}}^{T} X_{\\text{meaned}}\n",
    "$$\n",
    "\n",
    "**4. Eigen decomposition (principal axes & variances):**\n",
    "\n",
    "$$\n",
    "\\Sigma v_i = \\lambda_i v_i \\quad \\text{for } i = 1, \\dots, p\n",
    "$$\n",
    "\n",
    "Matrix form:\n",
    "\n",
    "$$\n",
    "\\Sigma V = V \\Lambda\n",
    "$$\n",
    "\n",
    "**5. Sort eigenvalues / eigenvectors:**\n",
    "\n",
    "$$\n",
    "\\lambda_1 \\ge \\lambda_2 \\ge \\dots \\ge \\lambda_p\n",
    "$$\n",
    "\n",
    "**6. Project onto top k principal components:**\n",
    "\n",
    "$$\n",
    "Y = X_{\\text{meaned}} V_k\n",
    "$$\n",
    "\n",
    "**7. Explained variance ratio:**\n",
    "\n",
    "$$\n",
    "\\text{EVR}_i = \\frac{\\lambda_i}{\\sum_{j=1}^{p}\\lambda_j}, \\quad\n",
    "\\text{CumVar}_k = \\sum_{i=1}^{k}\\text{EVR}_i\n",
    "$$\n"
   ]
  },
  {
   "cell_type": "code",
   "execution_count": 1,
   "id": "441aaf35",
   "metadata": {},
   "outputs": [
    {
     "name": "stdout",
     "output_type": "stream",
     "text": [
      "pca manual\n",
      "[[ 0.3399  1.0104]\n",
      " [-0.7863  0.7987]\n",
      " [-1.4578  1.1021]\n",
      " [-0.264   0.0493]\n",
      " [-0.2215 -1.6968]\n",
      " [ 1.1519 -0.1451]\n",
      " [ 2.3036  0.3724]\n",
      " [-0.711  -0.8003]\n",
      " [-0.368  -0.7284]\n",
      " [ 0.0131  0.0376]]\n",
      "pca sklearn\n",
      "[[ 0.3399  1.0104]\n",
      " [-0.7863  0.7987]\n",
      " [-1.4578  1.1021]\n",
      " [-0.264   0.0493]\n",
      " [-0.2215 -1.6968]\n",
      " [ 1.1519 -0.1451]\n",
      " [ 2.3036  0.3724]\n",
      " [-0.711  -0.8003]\n",
      " [-0.368  -0.7284]\n",
      " [ 0.0131  0.0376]]\n",
      "\n",
      "pca difference(manual - sklearn):\n",
      "[[ 0.  0.]\n",
      " [ 0. -0.]\n",
      " [ 0.  0.]\n",
      " [ 0. -0.]\n",
      " [ 0. -0.]\n",
      " [-0.  0.]\n",
      " [-0. -0.]\n",
      " [-0.  0.]\n",
      " [-0.  0.]\n",
      " [ 0. -0.]]\n"
     ]
    }
   ],
   "source": [
    "import numpy as np\n",
    "from sklearn.decomposition import PCA\n",
    "\n",
    "np.random.seed(42)\n",
    "X = np.random.randn(10, 3) \n",
    "\n",
    "X_meaned = X - np.mean(X, axis=0)\n",
    "\n",
    "cov_mat = np.cov(X_meaned, rowvar=False)\n",
    "\n",
    "eigen_values, eigen_vectors = np.linalg.eigh(cov_mat)\n",
    "\n",
    "sorted_idx = np.argsort(eigen_values)[::-1]\n",
    "\n",
    "eigen_values = eigen_values[sorted_idx]\n",
    "\n",
    "eigen_vectors = eigen_vectors[:, sorted_idx]\n",
    "\n",
    "k = 2\n",
    "eigen_vectors_subset = eigen_vectors[:, :k]\n",
    "\n",
    "X_reduced_manual = np.dot(X_meaned, eigen_vectors_subset)\n",
    "\n",
    "pca = PCA(n_components=2)\n",
    "X_reduced_sklearn = pca.fit_transform(X)\n",
    "print(\"pca manual\")\n",
    "print(np.round(X_reduced_manual, 4))\n",
    "\n",
    "print(\"pca sklearn\")\n",
    "print(np.round(X_reduced_sklearn, 4))\n",
    "\n",
    "print(\"\\npca difference(manual - sklearn):\")\n",
    "print(np.round(X_reduced_manual - X_reduced_sklearn, 4))\n"
   ]
  },
  {
   "cell_type": "code",
   "execution_count": null,
   "id": "969ddc8a",
   "metadata": {},
   "outputs": [
    {
     "data": {
      "text/plain": [
       "array([[-0.57561026,  0.48111412],\n",
       "       [-0.48303245,  0.45240071],\n",
       "       [ 0.65981246,  0.75090798]])"
      ]
     },
     "execution_count": 5,
     "metadata": {},
     "output_type": "execute_result"
    }
   ],
   "source": []
  },
  {
   "cell_type": "code",
   "execution_count": null,
   "id": "4e434f6d",
   "metadata": {},
   "outputs": [],
   "source": []
  }
 ],
 "metadata": {
  "kernelspec": {
   "display_name": "Scratch",
   "language": "python",
   "name": "python3"
  },
  "language_info": {
   "codemirror_mode": {
    "name": "ipython",
    "version": 3
   },
   "file_extension": ".py",
   "mimetype": "text/x-python",
   "name": "python",
   "nbconvert_exporter": "python",
   "pygments_lexer": "ipython3",
   "version": "3.12.0"
  }
 },
 "nbformat": 4,
 "nbformat_minor": 5
}
