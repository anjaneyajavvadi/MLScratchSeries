{
 "cells": [
  {
   "cell_type": "code",
   "execution_count": 1,
   "id": "9d5fde4a",
   "metadata": {},
   "outputs": [],
   "source": [
    "import numpy as np\n",
    "from sklearn.tree import DecisionTreeRegressor"
   ]
  },
  {
   "cell_type": "code",
   "execution_count": 20,
   "id": "ed84b64a",
   "metadata": {},
   "outputs": [],
   "source": [
    "class GradientBoostingRegressorScratch:\n",
    "    def __init__(self,n_estimators=100,learning_rate=0.1,max_depth=3):\n",
    "        self.n_estimators=n_estimators\n",
    "        self.learning_rate = learning_rate\n",
    "        self.max_depth = max_depth\n",
    "        self.trees = []\n",
    "        self.initial_prediction = None\n",
    "\n",
    "    def fit(self,X,y):\n",
    "        self.initial_prediction=np.mean(y)\n",
    "        y_pred=np.full(y.shape,self.initial_prediction)\n",
    "        for _ in range(self.n_estimators):\n",
    "            residuals = y - y_pred\n",
    "            tree = DecisionTreeRegressor(max_depth=self.max_depth)\n",
    "            tree.fit(X, residuals)\n",
    "            self.trees.append(tree)\n",
    "            y_pred += self.learning_rate * tree.predict(X)\n",
    "\n",
    "    def predict(self, X):\n",
    "        y_pred = np.full((X.shape[0],), self.initial_prediction)\n",
    "        for tree in self.trees:\n",
    "            y_pred += self.learning_rate * tree.predict(X)\n",
    "        return y_pred\n"
   ]
  },
  {
   "cell_type": "code",
   "execution_count": 26,
   "id": "a1fc801c",
   "metadata": {},
   "outputs": [
    {
     "name": "stdout",
     "output_type": "stream",
     "text": [
      "Scratch Model Regression MSE: 0.9482766643357254\n"
     ]
    }
   ],
   "source": [
    "from sklearn.datasets import make_regression, make_classification\n",
    "from sklearn.metrics import mean_squared_error, accuracy_score\n",
    "\n",
    "# Regression\n",
    "X_reg, y_reg = make_regression(n_samples=200, n_features=5, noise=10, random_state=42)\n",
    "model = GradientBoostingRegressorScratch(n_estimators=100, learning_rate=0.1,max_depth=5)\n",
    "model.fit(X_reg, y_reg)\n",
    "y_pred_reg = model.predict(X_reg)\n",
    "print(\"Scratch Model Regression MSE:\", mean_squared_error(y_reg, y_pred_reg))"
   ]
  },
  {
   "cell_type": "code",
   "execution_count": 25,
   "id": "9539b2d0",
   "metadata": {},
   "outputs": [
    {
     "name": "stdout",
     "output_type": "stream",
     "text": [
      "Scikit learn model : 0.9482766643357259\n"
     ]
    }
   ],
   "source": [
    "from sklearn.ensemble import GradientBoostingRegressor\n",
    "model_sklearn = GradientBoostingRegressor(n_estimators=100, learning_rate=0.1, max_depth=5, random_state=42)\n",
    "model_sklearn.fit(X_reg, y_reg)\n",
    "y_pred_reg_sklearn = model_sklearn.predict(X_reg)\n",
    "print(\"Scikit learn model :\",mean_squared_error(y_reg, y_pred_reg_sklearn))"
   ]
  },
  {
   "cell_type": "code",
   "execution_count": null,
   "id": "3be42b1a",
   "metadata": {},
   "outputs": [],
   "source": []
  }
 ],
 "metadata": {
  "kernelspec": {
   "display_name": "Scratch",
   "language": "python",
   "name": "python3"
  },
  "language_info": {
   "codemirror_mode": {
    "name": "ipython",
    "version": 3
   },
   "file_extension": ".py",
   "mimetype": "text/x-python",
   "name": "python",
   "nbconvert_exporter": "python",
   "pygments_lexer": "ipython3",
   "version": "3.12.0"
  }
 },
 "nbformat": 4,
 "nbformat_minor": 5
}
