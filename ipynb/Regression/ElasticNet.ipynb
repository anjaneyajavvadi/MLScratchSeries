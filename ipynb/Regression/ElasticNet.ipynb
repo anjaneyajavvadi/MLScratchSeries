{
 "cells": [
  {
   "cell_type": "code",
   "execution_count": 1,
   "id": "8bddf0d2",
   "metadata": {},
   "outputs": [],
   "source": [
    "import numpy as np\n",
    "import pandas as pd"
   ]
  },
  {
   "cell_type": "code",
   "execution_count": null,
   "id": "f623f320",
   "metadata": {},
   "outputs": [],
   "source": []
  },
  {
   "cell_type": "code",
   "execution_count": 2,
   "id": "2b6f3394",
   "metadata": {},
   "outputs": [],
   "source": [
    "class ElasticNetRegression:\n",
    "    def __init__(self, lr=0.01, n_iters=1000,alpha=0.1):\n",
    "        self.lr = lr\n",
    "        self.n_iters = n_iters\n",
    "        self.alpha=alpha\n",
    "        self.weights = None\n",
    "        self.bias = 0\n",
    "\n",
    "    def fit(self, X, y):\n",
    "        n_samples,n_features=X.shape\n",
    "        self.weights=np.zeros(n_features)\n",
    "        self.bias=0\n",
    "        for _ in range(self.n_iters):\n",
    "            y_pred=np.dot(X,self.weights)+self.bias\n",
    "\n",
    "            dw=(1/n_samples)*np.dot(X.T,(y_pred-y))+self.alpha*np.sign(self.weights)+self.alpha*np.sign(self.weights)\n",
    "            db=(1/n_samples)*np.sum(y_pred-y)\n",
    "\n",
    "            self.weights-=self.lr*dw\n",
    "            self.bias-=self.lr*db\n",
    "\n",
    "    def predict(self,X):\n",
    "        return np.dot(X,self.weights)+self.bias\n",
    "\n",
    "    def mse(self,y_true,y_pred):\n",
    "        return np.mean((y_true-y_pred)**2)"
   ]
  },
  {
   "cell_type": "code",
   "execution_count": 3,
   "id": "9dfc5b78",
   "metadata": {},
   "outputs": [],
   "source": [
    "from sklearn.linear_model import Ridge\n",
    "from sklearn.datasets import make_regression\n",
    "from sklearn.model_selection import train_test_split"
   ]
  },
  {
   "cell_type": "code",
   "execution_count": 4,
   "id": "95311484",
   "metadata": {},
   "outputs": [],
   "source": [
    "X,y=make_regression(n_samples=300,n_features=5,n_informative=3,noise=20,random_state=42)"
   ]
  },
  {
   "cell_type": "code",
   "execution_count": 7,
   "id": "5f4d47ec",
   "metadata": {},
   "outputs": [],
   "source": [
    "elastic=ElasticNetRegression(lr=0.01,n_iters=10000,alpha=0.1)\n",
    "elastic.fit(X,y)"
   ]
  },
  {
   "cell_type": "code",
   "execution_count": 8,
   "id": "3ad46413",
   "metadata": {},
   "outputs": [
    {
     "data": {
      "text/plain": [
       "np.float64(370.1489605810491)"
      ]
     },
     "execution_count": 8,
     "metadata": {},
     "output_type": "execute_result"
    }
   ],
   "source": [
    "elastic.mse(y,elastic.predict(X))"
   ]
  },
  {
   "cell_type": "code",
   "execution_count": null,
   "id": "5a59d315",
   "metadata": {},
   "outputs": [],
   "source": []
  }
 ],
 "metadata": {
  "kernelspec": {
   "display_name": "Scratch",
   "language": "python",
   "name": "python3"
  },
  "language_info": {
   "codemirror_mode": {
    "name": "ipython",
    "version": 3
   },
   "file_extension": ".py",
   "mimetype": "text/x-python",
   "name": "python",
   "nbconvert_exporter": "python",
   "pygments_lexer": "ipython3",
   "version": "3.12.0"
  }
 },
 "nbformat": 4,
 "nbformat_minor": 5
}
