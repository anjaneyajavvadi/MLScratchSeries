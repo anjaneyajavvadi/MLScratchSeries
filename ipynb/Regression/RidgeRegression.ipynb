{
 "cells": [
  {
   "cell_type": "code",
   "execution_count": 1,
   "id": "b65bc656",
   "metadata": {},
   "outputs": [],
   "source": [
    "import numpy as np\n",
    "import pandas as pd"
   ]
  },
  {
   "cell_type": "code",
   "execution_count": 3,
   "id": "b4b01b48",
   "metadata": {},
   "outputs": [],
   "source": [
    "class RidgeRegression:\n",
    "    def __init__(self, lr=0.01, n_iters=1000, alpha=0.1):\n",
    "        self.lr = lr\n",
    "        self.n_iters = n_iters\n",
    "        self.alpha = alpha\n",
    "        self.weights = None\n",
    "        self.bias = 0\n",
    "\n",
    "    def fit(self, X, y):\n",
    "        n_samples, n_features = X.shape\n",
    "        self.weights = np.zeros(n_features)\n",
    "        self.bias = 0\n",
    "\n",
    "        for _ in range(self.n_iters):\n",
    "            y_pred = np.dot(X, self.weights) + self.bias\n",
    "\n",
    "            dw = (1/n_samples) * np.dot(X.T, (y_pred - y)) + 2 * self.alpha * self.weights\n",
    "            db = (1/n_samples) * np.sum(y_pred - y)\n",
    "\n",
    "            self.weights -= self.lr * dw\n",
    "            self.bias -= self.lr * db\n",
    "\n",
    "    def predict(self, X):\n",
    "        return np.dot(X, self.weights) + self.bias\n",
    "\n",
    "    def mse(self, y_true, y_pred):\n",
    "        return np.mean((y_true - y_pred) ** 2)\n"
   ]
  },
  {
   "cell_type": "code",
   "execution_count": 4,
   "id": "742f6f32",
   "metadata": {},
   "outputs": [],
   "source": [
    "ridge=RidgeRegression()"
   ]
  },
  {
   "cell_type": "code",
   "execution_count": 5,
   "id": "1188894e",
   "metadata": {},
   "outputs": [],
   "source": [
    "from sklearn.linear_model import Ridge\n",
    "from sklearn.metrics import mean_squared_error\n",
    "from sklearn.datasets import make_regression"
   ]
  },
  {
   "cell_type": "code",
   "execution_count": 7,
   "id": "34791392",
   "metadata": {},
   "outputs": [],
   "source": [
    "X,y=make_regression(n_samples=300,n_features=5,n_informative=3,noise=20,random_state=42)"
   ]
  },
  {
   "cell_type": "code",
   "execution_count": 8,
   "id": "48166a2b",
   "metadata": {},
   "outputs": [],
   "source": [
    "ridge.fit(X,y)"
   ]
  },
  {
   "cell_type": "code",
   "execution_count": 9,
   "id": "93f8eace",
   "metadata": {},
   "outputs": [
    {
     "data": {
      "text/plain": [
       "np.float64(634.469221743678)"
      ]
     },
     "execution_count": 9,
     "metadata": {},
     "output_type": "execute_result"
    }
   ],
   "source": [
    "ridge.mse(y,ridge.predict(X))"
   ]
  },
  {
   "cell_type": "code",
   "execution_count": 10,
   "id": "730fb405",
   "metadata": {},
   "outputs": [
    {
     "data": {
      "text/plain": [
       "array([ 1.2580775 ,  1.08844943, 41.95155688, 69.12187115, 22.30655203])"
      ]
     },
     "execution_count": 10,
     "metadata": {},
     "output_type": "execute_result"
    }
   ],
   "source": [
    "ridge.weights"
   ]
  },
  {
   "cell_type": "code",
   "execution_count": 11,
   "id": "f9ca080b",
   "metadata": {},
   "outputs": [
    {
     "data": {
      "text/plain": [
       "np.float64(0.05740123653461126)"
      ]
     },
     "execution_count": 11,
     "metadata": {},
     "output_type": "execute_result"
    }
   ],
   "source": [
    "ridge.bias"
   ]
  },
  {
   "cell_type": "code",
   "execution_count": null,
   "id": "4afc3e2c",
   "metadata": {},
   "outputs": [],
   "source": []
  },
  {
   "cell_type": "code",
   "execution_count": 12,
   "id": "b24266f8",
   "metadata": {},
   "outputs": [],
   "source": [
    "#sklearn Ridge"
   ]
  },
  {
   "cell_type": "code",
   "execution_count": 13,
   "id": "aa697ed4",
   "metadata": {},
   "outputs": [
    {
     "data": {
      "text/plain": [
       "369.9459369296341"
      ]
     },
     "execution_count": 13,
     "metadata": {},
     "output_type": "execute_result"
    }
   ],
   "source": [
    "skl_ridge=Ridge(alpha=0.1)\n",
    "skl_ridge.fit(X,y)\n",
    "mean_squared_error(y,skl_ridge.predict(X))"
   ]
  },
  {
   "cell_type": "code",
   "execution_count": null,
   "id": "ef9717a8",
   "metadata": {},
   "outputs": [],
   "source": []
  }
 ],
 "metadata": {
  "kernelspec": {
   "display_name": "Scratch",
   "language": "python",
   "name": "python3"
  },
  "language_info": {
   "codemirror_mode": {
    "name": "ipython",
    "version": 3
   },
   "file_extension": ".py",
   "mimetype": "text/x-python",
   "name": "python",
   "nbconvert_exporter": "python",
   "pygments_lexer": "ipython3",
   "version": "3.12.0"
  }
 },
 "nbformat": 4,
 "nbformat_minor": 5
}
