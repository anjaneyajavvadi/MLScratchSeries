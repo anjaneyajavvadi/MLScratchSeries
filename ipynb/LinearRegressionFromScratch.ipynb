{
 "cells": [
  {
   "cell_type": "code",
   "execution_count": 2,
   "id": "3c8c75e6",
   "metadata": {},
   "outputs": [],
   "source": [
    "import numpy as np\n",
    "import pandas as pd\n",
    "import matplotlib.pyplot as plt\n"
   ]
  },
  {
   "cell_type": "markdown",
   "id": "9a581fc6",
   "metadata": {},
   "source": [
    "Linear Regression from scratch using gradient descent"
   ]
  },
  {
   "cell_type": "code",
   "execution_count": 25,
   "id": "26f5ed94",
   "metadata": {},
   "outputs": [
    {
     "data": {
      "text/plain": [
       "'LinearRegression equation formula but now we are using it for regression w-> weights and b-> bias'"
      ]
     },
     "metadata": {},
     "output_type": "display_data"
    },
    {
     "data": {
      "text/latex": [
       "$\\displaystyle \\hat{y} = w X + b$"
      ],
      "text/plain": [
       "<IPython.core.display.Math object>"
      ]
     },
     "metadata": {},
     "output_type": "display_data"
    },
    {
     "data": {
      "text/plain": [
       "'Mean squared error formula which we use for regression and partial derivatives to find weights and bias from scratch'"
      ]
     },
     "metadata": {},
     "output_type": "display_data"
    },
    {
     "data": {
      "text/latex": [
       "$\\displaystyle MSE = \\frac{1}{n} \\sum_{i=1}^{n} (\\hat{y}_i - y_i)^2$"
      ],
      "text/plain": [
       "<IPython.core.display.Math object>"
      ]
     },
     "metadata": {},
     "output_type": "display_data"
    },
    {
     "data": {
      "text/plain": [
       "'partial derivative of MSE with respect to w & b which lets us move to the local minimum of the cost function'"
      ]
     },
     "metadata": {},
     "output_type": "display_data"
    },
    {
     "data": {
      "text/latex": [
       "$\\displaystyle \\frac{\\partial MSE}{\\partial w} = \\frac{1}{n} \\sum_{i=1}^{n} (\\hat{y}_i - y_i) X_i$"
      ],
      "text/plain": [
       "<IPython.core.display.Math object>"
      ]
     },
     "metadata": {},
     "output_type": "display_data"
    },
    {
     "data": {
      "text/latex": [
       "$\\displaystyle \\frac{\\partial MSE}{\\partial b} = \\frac{1}{n} \\sum_{i=1}^{n} (\\hat{y}_i - y_i)$"
      ],
      "text/plain": [
       "<IPython.core.display.Math object>"
      ]
     },
     "metadata": {},
     "output_type": "display_data"
    }
   ],
   "source": [
    "from IPython.display import display, Math\n",
    "display('LinearRegression equation formula but now we are using it for regression w-> weights and b-> bias')\n",
    "display(Math(r\"\\hat{y} = w X + b\"))\n",
    "display('Mean squared error formula which we use for regression and partial derivatives to find weights and bias from scratch')\n",
    "display(Math(r\"MSE = \\frac{1}{n} \\sum_{i=1}^{n} (\\hat{y}_i - y_i)^2\"))\n",
    "display(\"partial derivative of MSE with respect to w & b which lets us move to the local minimum of the cost function\")\n",
    "display(Math(r\"\\frac{\\partial MSE}{\\partial w} = \\frac{1}{n} \\sum_{i=1}^{n} (\\hat{y}_i - y_i) X_i\"))\n",
    "display(Math(r\"\\frac{\\partial MSE}{\\partial b} = \\frac{1}{n} \\sum_{i=1}^{n} (\\hat{y}_i - y_i)\"))\n"
   ]
  },
  {
   "cell_type": "code",
   "execution_count": 27,
   "id": "76b3b6a4",
   "metadata": {},
   "outputs": [],
   "source": [
    "class LinearRegression:\n",
    "    def __init__(self, lr=0.01, n_iters=10):\n",
    "        self.lr = lr\n",
    "        self.n_iters = n_iters\n",
    "        self.weight = 0 \n",
    "        self.bias = 0\n",
    "\n",
    "    def fit(self, X, y):\n",
    "        X = X.flatten()\n",
    "        n_samples = X.shape[0]\n",
    "\n",
    "        for _ in range(self.n_iters):\n",
    "            y_pred = self.weight * X + self.bias\n",
    "            dw = (1/n_samples) * np.sum((y_pred - y) * X)\n",
    "            db = (1/n_samples) * np.sum(y_pred - y)\n",
    "            self.weight -= self.lr * dw\n",
    "            self.bias -= self.lr * db\n",
    "\n",
    "    def predict(self, X):\n",
    "        X = X.flatten()\n",
    "        return self.weight * X + self.bias\n",
    "    \n",
    "    def mse(self, y_true, y_pred):\n",
    "        return np.mean((y_true - y_pred) ** 2)"
   ]
  },
  {
   "cell_type": "code",
   "execution_count": 28,
   "id": "1075155c",
   "metadata": {},
   "outputs": [],
   "source": [
    "from sklearn.datasets import make_regression\n",
    "from sklearn.model_selection import train_test_split\n",
    "X,y=make_regression(n_samples=100,n_features=1,noise=20,random_state=42)\n",
    "X_train,X_test,y_train,y_test=train_test_split(X,y,test_size=0.2,random_state=42)\n",
    "\n",
    "regressor=LinearRegression(lr=0.01,n_iters=1000)\n",
    "regressor.fit(X_train,y_train)\n",
    "y_pred=regressor.predict(X_test)"
   ]
  },
  {
   "cell_type": "code",
   "execution_count": 29,
   "id": "7e5cf1d0",
   "metadata": {},
   "outputs": [
    {
     "name": "stdout",
     "output_type": "stream",
     "text": [
      "417.00933221477027\n"
     ]
    }
   ],
   "source": [
    "print(regressor.mse(y_test,y_pred))"
   ]
  },
  {
   "cell_type": "code",
   "execution_count": null,
   "id": "0de34e58",
   "metadata": {},
   "outputs": [
    {
     "data": {
      "image/png": "[encoded data removed]",
      "text/plain": [
       "<Figure size 640x480 with 1 Axes>"
      ]
     },
     "metadata": {},
     "output_type": "display_data"
    },
    {
     "name": "stdout",
     "output_type": "stream",
     "text": [
      "Weight: 46.73020521658154\n",
      "Bias: 0.18967596020864966\n"
     ]
    }
   ],
   "source": [
    "plt.scatter(X_test, y_test, color='blue', label='Data points')\n",
    "plt.plot(X_test, y_pred, color='red', label='Regression line')\n",
    "plt.xlabel('Feature1')\n",
    "plt.ylabel('Target')\n",
    "plt.legend()\n",
    "plt.show()\n",
    "\n"
   ]
  },
  {
   "cell_type": "code",
   "execution_count": 37,
   "id": "e3173658",
   "metadata": {},
   "outputs": [],
   "source": [
    "#Linear Regression with sklearn library"
   ]
  },
  {
   "cell_type": "code",
   "execution_count": 41,
   "id": "e5ff0a1d",
   "metadata": {},
   "outputs": [
    {
     "name": "stdout",
     "output_type": "stream",
     "text": [
      "0.8019015156159199\n"
     ]
    }
   ],
   "source": [
    "from sklearn.linear_model import LinearRegression\n",
    "\n",
    "skl_regressor=LinearRegression()\n",
    "skl_regressor.fit(X_train,y_train)\n",
    "y_pred=skl_regressor.predict(X_test)\n",
    "print(skl_regressor.score(X_test,y_test))"
   ]
  },
  {
   "cell_type": "code",
   "execution_count": 40,
   "id": "f130e720",
   "metadata": {},
   "outputs": [
    {
     "name": "stdout",
     "output_type": "stream",
     "text": [
      "[46.747264]\n",
      "0.19844442845175525\n"
     ]
    }
   ],
   "source": [
    "print(skl_regressor.coef_)\n",
    "print(skl_regressor.intercept_)"
   ]
  },
  {
   "cell_type": "code",
   "execution_count": null,
   "id": "b5679219",
   "metadata": {},
   "outputs": [
    {
     "data": {
      "text/plain": [
       "np.float64(0.19844442845175525)"
      ]
     },
     "execution_count": 39,
     "metadata": {},
     "output_type": "execute_result"
    }
   ],
   "source": []
  },
  {
   "cell_type": "code",
   "execution_count": null,
   "id": "0fdb6a50",
   "metadata": {},
   "outputs": [],
   "source": []
  }
 ],
 "metadata": {
  "kernelspec": {
   "display_name": "Scratch",
   "language": "python",
   "name": "python3"
  },
  "language_info": {
   "codemirror_mode": {
    "name": "ipython",
    "version": 3
   },
   "file_extension": ".py",
   "mimetype": "text/x-python",
   "name": "python",
   "nbconvert_exporter": "python",
   "pygments_lexer": "ipython3",
   "version": "3.12.0"
  }
 },
 "nbformat": 4,
 "nbformat_minor": 5
}
