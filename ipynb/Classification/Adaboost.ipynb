{
 "cells": [
  {
   "cell_type": "code",
   "execution_count": 3,
   "id": "9084159b",
   "metadata": {},
   "outputs": [],
   "source": [
    "import numpy as np"
   ]
  },
  {
   "cell_type": "code",
   "execution_count": 10,
   "id": "de674ce3",
   "metadata": {},
   "outputs": [],
   "source": [
    "class DecisionStump:\n",
    "    def __init__(self):\n",
    "        self.feature_index=None\n",
    "        self.threshold=None\n",
    "        self.polarity=None\n",
    "        self.alpha=None\n",
    "    \n",
    "    def predict(self,X):\n",
    "        n_samples=X.shape[0]\n",
    "        X_=X[:,self.feature_index]\n",
    "\n",
    "        predictions=np.ones(n_samples)\n",
    "        if(self.polarity==1):\n",
    "            predictions[X_<self.threshold]=-1\n",
    "        else:\n",
    "            predictions[X_>self.threshold]=-1\n",
    "        return predictions"
   ]
  },
  {
   "cell_type": "code",
   "execution_count": 11,
   "id": "214a3f0d",
   "metadata": {},
   "outputs": [],
   "source": [
    "class AdaBoost:\n",
    "    def __init__(self,n_stumps=5):\n",
    "        self.n_stumps=n_stumps\n",
    "        self.stumps=[]\n",
    "\n",
    "    def fit(self,X,y):\n",
    "        n_samples,n_features=X.shape\n",
    "\n",
    "        w=np.full(n_samples,(1/n_samples))\n",
    "\n",
    "        for _ in range(self.n_stumps):\n",
    "            min_error=float('inf')\n",
    "            stump=DecisionStump()\n",
    "\n",
    "            for feature in range(n_features):\n",
    "                X_=X[:,feature]\n",
    "                thresholds=np.unique(X_)\n",
    "\n",
    "                for threshold in thresholds:\n",
    "                    for polarity in [1,-1]:\n",
    "                        predictions=np.ones(n_samples)\n",
    "                        if(polarity==1):\n",
    "                            predictions[X_<threshold]=-1\n",
    "                        else:\n",
    "                            predictions[X_>threshold]=-1\n",
    "                        \n",
    "                        error=np.sum(w*(predictions!=y))\n",
    "                        if(error<min_error):\n",
    "                            min_error=error\n",
    "                            stump.feature_index=feature\n",
    "                            stump.polarity=polarity\n",
    "                            stump.threshold=threshold\n",
    "\n",
    "            stump.alpha = 0.5 * np.log((1 - min_error) / (min_error + 1e-10))\n",
    "\n",
    "\n",
    "            w*=np.exp(-stump.alpha)\n",
    "            w/=np.sum(w)\n",
    "\n",
    "            self.stumps.append(stump)\n",
    "\n",
    "    def predict(self,X):\n",
    "        stump_preds=[ stump.alpha *stump.predict(X) for stump in self.stumps]\n",
    "        preds=np.sign(np.sum(stump_preds,axis=0))\n",
    "        return preds"
   ]
  },
  {
   "cell_type": "code",
   "execution_count": 12,
   "id": "b68e404e",
   "metadata": {},
   "outputs": [
    {
     "name": "stdout",
     "output_type": "stream",
     "text": [
      "Accuracy: 0.875\n"
     ]
    }
   ],
   "source": [
    "from sklearn.datasets import make_classification\n",
    "X, y = make_classification(n_samples=1000, n_features=6, n_informative=2, n_redundant=0, random_state=42)\n",
    "y = np.where(y == 0, -1, 1)  # AdaBoost requires labels -1 and 1\n",
    "\n",
    "model = AdaBoost(n_stumps=10)\n",
    "model.fit(X, y)\n",
    "y_pred = model.predict(X)\n",
    "\n",
    "accuracy = np.mean(y_pred == y)\n",
    "print(\"Accuracy:\", accuracy)\n"
   ]
  },
  {
   "cell_type": "code",
   "execution_count": 13,
   "id": "d3f42c8d",
   "metadata": {},
   "outputs": [
    {
     "name": "stdout",
     "output_type": "stream",
     "text": [
      "sklearn AdaBoost Accuracy: 0.875\n"
     ]
    }
   ],
   "source": [
    "from sklearn.ensemble import AdaBoostClassifier\n",
    "from sklearn.metrics import accuracy_score\n",
    "\n",
    "sklearn_clf = AdaBoostClassifier(n_estimators=10, random_state=42)\n",
    "sklearn_clf.fit(X, y)  # sklearn uses 0/1 labels\n",
    "y_pred_sklearn = sklearn_clf.predict(X)\n",
    "acc_sklearn = accuracy_score(y, y_pred_sklearn)\n",
    "print(\"sklearn AdaBoost Accuracy:\", acc_sklearn)"
   ]
  },
  {
   "cell_type": "code",
   "execution_count": null,
   "id": "49a00bfc",
   "metadata": {},
   "outputs": [],
   "source": []
  }
 ],
 "metadata": {
  "kernelspec": {
   "display_name": "Scratch",
   "language": "python",
   "name": "python3"
  },
  "language_info": {
   "codemirror_mode": {
    "name": "ipython",
    "version": 3
   },
   "file_extension": ".py",
   "mimetype": "text/x-python",
   "name": "python",
   "nbconvert_exporter": "python",
   "pygments_lexer": "ipython3",
   "version": "3.12.0"
  }
 },
 "nbformat": 4,
 "nbformat_minor": 5
}
