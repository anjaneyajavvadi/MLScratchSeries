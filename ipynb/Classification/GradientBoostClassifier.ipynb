{
 "cells": [
  {
   "cell_type": "code",
   "execution_count": 3,
   "id": "2ba9c811",
   "metadata": {},
   "outputs": [],
   "source": [
    "from sklearn.tree import DecisionTreeRegressor\n",
    "import numpy as np"
   ]
  },
  {
   "cell_type": "code",
   "execution_count": 1,
   "id": "4eb4c82f",
   "metadata": {},
   "outputs": [],
   "source": [
    "class GradientBoostClassifier:\n",
    "    def __init__(self, n_estimators=100, learning_rate=0.1, max_depth=3):\n",
    "        self.n_estimators = n_estimators\n",
    "        self.learning_rate = learning_rate\n",
    "        self.max_depth = max_depth\n",
    "        self.trees = []\n",
    "        self.initial_prediction = None\n",
    "\n",
    "    def fit(self, X, y):\n",
    "        pos_ratio = np.clip(np.mean(y), 1e-5, 1-1e-5)\n",
    "        self.initial_prediction = np.log(pos_ratio / (1 - pos_ratio))\n",
    "        F = np.full(y.shape, self.initial_prediction)\n",
    "        \n",
    "        for _ in range(self.n_estimators):\n",
    "            p = 1 / (1 + np.exp(-F))\n",
    "            residuals = y - p\n",
    "            tree = DecisionTreeRegressor(max_depth=self.max_depth)\n",
    "            tree.fit(X, residuals)\n",
    "            self.trees.append(tree)\n",
    "            F += self.learning_rate * tree.predict(X)\n",
    "\n",
    "    def predict_proba(self, X):\n",
    "        F = np.full((X.shape[0],), self.initial_prediction)\n",
    "        for tree in self.trees:\n",
    "            F += self.learning_rate * tree.predict(X)\n",
    "        p = 1 / (1 + np.exp(-F))\n",
    "        return np.vstack([1-p, p]).T\n",
    "\n",
    "    def predict(self, X):\n",
    "        proba = self.predict_proba(X)[:, 1]\n",
    "        return (proba >= 0.5).astype(int)\n"
   ]
  },
  {
   "cell_type": "code",
   "execution_count": 5,
   "id": "5bd0cf28",
   "metadata": {},
   "outputs": [],
   "source": [
    "from sklearn.datasets import  make_classification\n",
    "from sklearn.metrics import  accuracy_score\n",
    "X_clf, y_clf = make_classification(n_samples=200, n_features=5, n_informative=3, n_redundant=0, random_state=42)"
   ]
  },
  {
   "cell_type": "code",
   "execution_count": 17,
   "id": "c110fe2a",
   "metadata": {},
   "outputs": [
    {
     "name": "stdout",
     "output_type": "stream",
     "text": [
      "0.975\n"
     ]
    }
   ],
   "source": [
    "scratch_model = GradientBoostClassifier(n_estimators=100, learning_rate=0.1, max_depth=3)\n",
    "scratch_model.fit(X_clf, y_clf)\n",
    "scratch_model_preds = scratch_model.predict(X_clf)\n",
    "acc_scratch = accuracy_score(y_clf, scratch_model_preds)\n",
    "print(acc_scratch)"
   ]
  },
  {
   "cell_type": "code",
   "execution_count": 19,
   "id": "2a1260e5",
   "metadata": {},
   "outputs": [],
   "source": [
    "from sklearn.ensemble import  GradientBoostingClassifier"
   ]
  },
  {
   "cell_type": "code",
   "execution_count": 22,
   "id": "f48375bd",
   "metadata": {},
   "outputs": [
    {
     "name": "stdout",
     "output_type": "stream",
     "text": [
      "1.0\n"
     ]
    }
   ],
   "source": [
    "sklearn_model = GradientBoostingClassifier(n_estimators=100, learning_rate=0.1, max_depth=3, random_state=42)\n",
    "sklearn_model.fit(X_clf, y_clf)\n",
    "y_pred_clf_sklearn = sklearn_model.predict(X_clf)\n",
    "acc_sklearn = accuracy_score(y_clf, y_pred_clf_sklearn)\n",
    "print(acc_sklearn)"
   ]
  },
  {
   "cell_type": "code",
   "execution_count": null,
   "id": "92728109",
   "metadata": {},
   "outputs": [],
   "source": []
  }
 ],
 "metadata": {
  "kernelspec": {
   "display_name": "Scratch",
   "language": "python",
   "name": "python3"
  },
  "language_info": {
   "codemirror_mode": {
    "name": "ipython",
    "version": 3
   },
   "file_extension": ".py",
   "mimetype": "text/x-python",
   "name": "python",
   "nbconvert_exporter": "python",
   "pygments_lexer": "ipython3",
   "version": "3.12.0"
  }
 },
 "nbformat": 4,
 "nbformat_minor": 5
}
