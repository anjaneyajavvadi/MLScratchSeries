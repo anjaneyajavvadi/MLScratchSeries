{
 "cells": [
  {
   "cell_type": "code",
   "execution_count": 1,
   "id": "11aaeebf",
   "metadata": {},
   "outputs": [],
   "source": [
    "import numpy as np\n",
    "import pandas as pd\n",
    "from scipy import stats\n"
   ]
  },
  {
   "cell_type": "markdown",
   "id": "969cab5a",
   "metadata": {},
   "source": [
    "<h1 style='color:blue'>Z Test</h1>"
   ]
  },
  {
   "cell_type": "code",
   "execution_count": 3,
   "id": "d202b113",
   "metadata": {},
   "outputs": [
    {
     "name": "stdout",
     "output_type": "stream",
     "text": [
      "Z = 0.949, p-value = 0.343\n"
     ]
    }
   ],
   "source": [
    "\n",
    "mu = 170      \n",
    "sigma = 6     \n",
    "\n",
    "sample = np.array([172, 168, 174, 169, 171, 173, 175, 170, 172, 174])\n",
    "n = len(sample)\n",
    "x_bar = np.mean(sample)\n",
    "\n",
    "z = (x_bar - mu) / (sigma / np.sqrt(n))\n",
    "\n",
    "p = 2 * (1 - stats.norm.cdf(abs(z)))\n",
    "\n",
    "print(f\"Z = {z:.3f}, p-value = {p:.3f}\")\n"
   ]
  },
  {
   "cell_type": "markdown",
   "id": "83e1a18f",
   "metadata": {},
   "source": [
    "<h1 style='color:blue'>T Test</h1>"
   ]
  },
  {
   "cell_type": "code",
   "execution_count": 4,
   "id": "0b626d6f",
   "metadata": {},
   "outputs": [
    {
     "name": "stdout",
     "output_type": "stream",
     "text": [
      "t = -2.559, p-value = 0.013\n"
     ]
    }
   ],
   "source": [
    "cityA = np.random.normal(50000, 5000, 30)\n",
    "cityB = np.random.normal(52000, 6000, 30)\n",
    "\n",
    "t_stat, p_val = stats.ttest_ind(cityA, cityB)\n",
    "\n",
    "print(f\"t = {t_stat:.3f}, p-value = {p_val:.3f}\")\n"
   ]
  },
  {
   "cell_type": "markdown",
   "id": "fced3074",
   "metadata": {},
   "source": [
    "<h1 style='color:blue'>Chi Square Test</h1>"
   ]
  },
  {
   "cell_type": "code",
   "execution_count": 9,
   "id": "35ded96c",
   "metadata": {},
   "outputs": [
    {
     "name": "stdout",
     "output_type": "stream",
     "text": [
      "Chi2 = 15.042, p-value = 0.000\n",
      "Expected frequencies:\n",
      " [[20. 20.]\n",
      " [30. 30.]]\n"
     ]
    }
   ],
   "source": [
    "observed = np.array([[30, 10],\n",
    "                     [20, 40]]) \n",
    "\n",
    "chi2, p, dof, expected = stats.chi2_contingency(observed)\n",
    "\n",
    "print(f\"Chi2 = {chi2:.3f}, p-value = {p:.3f}\")\n",
    "print(\"Expected frequencies:\\n\", expected)\n"
   ]
  },
  {
   "cell_type": "markdown",
   "id": "274852c5",
   "metadata": {},
   "source": [
    "<h1 style='color:blue'>Annova Test</h1>"
   ]
  },
  {
   "cell_type": "code",
   "execution_count": 6,
   "id": "fa39f3e3",
   "metadata": {},
   "outputs": [
    {
     "name": "stdout",
     "output_type": "stream",
     "text": [
      "F = 4.955, p-value = 0.009\n"
     ]
    }
   ],
   "source": [
    "group1 = np.random.normal(80, 5, 30)\n",
    "group2 = np.random.normal(82, 6, 30)\n",
    "group3 = np.random.normal(78, 4, 30)\n",
    "\n",
    "f_stat, p_val = stats.f_oneway(group1, group2, group3)\n",
    "\n",
    "print(f\"F = {f_stat:.3f}, p-value = {p_val:.3f}\")\n"
   ]
  },
  {
   "cell_type": "markdown",
   "id": "c5a30f10",
   "metadata": {},
   "source": [
    "<h1 style='color:blue'>F Test</h1>"
   ]
  },
  {
   "cell_type": "code",
   "execution_count": 7,
   "id": "9a8aa3cb",
   "metadata": {},
   "outputs": [
    {
     "name": "stdout",
     "output_type": "stream",
     "text": [
      "F = 1.578, p-value = 0.057\n"
     ]
    }
   ],
   "source": [
    "modelA = np.random.normal(0, 1.2, 50)\n",
    "modelB = np.random.normal(0, 1.0, 50)\n",
    "\n",
    "f = np.var(modelA, ddof=1) / np.var(modelB, ddof=1)\n",
    "df1, df2 = len(modelA) - 1, len(modelB) - 1\n",
    "p = 1 - stats.f.cdf(f, df1, df2)\n",
    "\n",
    "print(f\"F = {f:.3f}, p-value = {p:.3f}\")\n"
   ]
  },
  {
   "cell_type": "markdown",
   "id": "19504d46",
   "metadata": {},
   "source": [
    "<h1 style='color:blue'>Proportion Test</h1>"
   ]
  },
  {
   "cell_type": "code",
   "execution_count": 10,
   "id": "d507ed24",
   "metadata": {},
   "outputs": [
    {
     "name": "stdout",
     "output_type": "stream",
     "text": [
      "Z = -0.455, p-value = 0.649\n"
     ]
    }
   ],
   "source": [
    "x1, n1 = 60, 200\n",
    "x2, n2 = 80, 250\n",
    "\n",
    "p1, p2 = x1 / n1, x2 / n2\n",
    "p_pool = (x1 + x2) / (n1 + n2)\n",
    "\n",
    "z = (p1 - p2) / np.sqrt(p_pool * (1 - p_pool) * (1/n1 + 1/n2))\n",
    "p_val = 2 * (1 - stats.norm.cdf(abs(z)))\n",
    "\n",
    "print(f\"Z = {z:.3f}, p-value = {p_val:.3f}\")\n"
   ]
  },
  {
   "cell_type": "code",
   "execution_count": null,
   "id": "4fdc3d70",
   "metadata": {},
   "outputs": [],
   "source": []
  }
 ],
 "metadata": {
  "kernelspec": {
   "display_name": "Scratch",
   "language": "python",
   "name": "python3"
  },
  "language_info": {
   "codemirror_mode": {
    "name": "ipython",
    "version": 3
   },
   "file_extension": ".py",
   "mimetype": "text/x-python",
   "name": "python",
   "nbconvert_exporter": "python",
   "pygments_lexer": "ipython3",
   "version": "3.12.0"
  }
 },
 "nbformat": 4,
 "nbformat_minor": 5
}
